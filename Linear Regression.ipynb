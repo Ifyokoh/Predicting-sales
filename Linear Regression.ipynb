{
 "cells": [
  {
   "cell_type": "code",
   "execution_count": 4,
   "metadata": {},
   "outputs": [],
   "source": [
    "import pandas as pd\n",
    "import numpy as np"
   ]
  },
  {
   "cell_type": "code",
   "execution_count": 5,
   "metadata": {},
   "outputs": [],
   "source": [
    "train_data = pd.read_csv('train.csv')\n",
    "test_data = pd.read_csv('test.csv')\n",
    "sample_data = pd.read_csv('SampleSubmission.csv')"
   ]
  },
  {
   "cell_type": "code",
   "execution_count": 6,
   "metadata": {},
   "outputs": [
    {
     "name": "stdout",
     "output_type": "stream",
     "text": [
      "(4990, 14) (3532, 13) (8522, 14)\n"
     ]
    }
   ],
   "source": [
    "train_data['source']='train'\n",
    "test_data['source']='test'\n",
    "data = pd.concat([train_data, test_data],ignore_index=True)\n",
    "print (train_data.shape, test_data.shape, data.shape)"
   ]
  },
  {
   "cell_type": "code",
   "execution_count": 7,
   "metadata": {},
   "outputs": [],
   "source": [
    "product_avg_weight = data.pivot_table(values='Product_Weight', index='Product_Identifier') #aggfunc is mean by default!"
   ]
  },
  {
   "cell_type": "code",
   "execution_count": 8,
   "metadata": {},
   "outputs": [],
   "source": [
    "#filling the missing data\n",
    "def impute_weight(cols):\n",
    "    Weight = cols[0]\n",
    "    Identifier = cols[1]\n",
    "    \n",
    "    if pd.isnull(Weight):\n",
    "        return product_avg_weight['Product_Weight'][product_avg_weight.index == Identifier]\n",
    "    else:\n",
    "        return Weight"
   ]
  },
  {
   "cell_type": "code",
   "execution_count": 9,
   "metadata": {},
   "outputs": [
    {
     "name": "stdout",
     "output_type": "stream",
     "text": [
      "Orignal missing: 1463\n",
      "Final missing: 4\n"
     ]
    }
   ],
   "source": [
    "print ('Orignal missing: %d'% sum(data['Product_Weight'].isnull()))\n",
    "data['Product_Weight'] = data[['Product_Weight','Product_Identifier']].apply(impute_weight, axis=1).astype(float)\n",
    "print ('Final missing: %d'% sum(data['Product_Weight'].isnull()))"
   ]
  },
  {
   "cell_type": "code",
   "execution_count": 10,
   "metadata": {},
   "outputs": [
    {
     "data": {
      "text/plain": [
       "0"
      ]
     },
     "execution_count": 10,
     "metadata": {},
     "output_type": "execute_result"
    }
   ],
   "source": [
    "#filling the remaining missing 4 values\n",
    "data['Product_Weight'] = data['Product_Weight'].fillna(11.9)\n",
    "sum(data['Product_Weight'].isnull())"
   ]
  },
  {
   "cell_type": "code",
   "execution_count": 11,
   "metadata": {},
   "outputs": [],
   "source": [
    "supermarket_size_mode = data.pivot_table(values='Supermarket _Size', columns = 'Supermarket_Type',aggfunc=lambda x: x.mode())"
   ]
  },
  {
   "cell_type": "code",
   "execution_count": 12,
   "metadata": {},
   "outputs": [
    {
     "name": "stdout",
     "output_type": "stream",
     "text": [
      "Orignal #missing: 2409\n",
      "Final #missing: 0\n"
     ]
    }
   ],
   "source": [
    "def impute_size_mode(cols):\n",
    "    Size = cols[0]\n",
    "    Type = cols[1]\n",
    "    if pd.isnull(Size):\n",
    "        return supermarket_size_mode.loc['Supermarket _Size'][supermarket_size_mode.columns == Type][0]\n",
    "    else:\n",
    "        return Size\n",
    "\n",
    "print ('Orignal #missing: %d'%sum(data['Supermarket _Size'].isnull()))\n",
    "data['Supermarket _Size'] = data[['Supermarket _Size','Supermarket_Type']].apply(impute_size_mode,axis=1)\n",
    "print ('Final #missing: %d'%sum(data['Supermarket _Size'].isnull()))"
   ]
  },
  {
   "cell_type": "code",
   "execution_count": 13,
   "metadata": {},
   "outputs": [],
   "source": [
    "visibility_item_avg = data.pivot_table(values='Product_Shelf_Visibility',index='Product_Identifier')"
   ]
  },
  {
   "cell_type": "code",
   "execution_count": 14,
   "metadata": {},
   "outputs": [],
   "source": [
    "from sklearn.preprocessing import LabelEncoder\n",
    "le = LabelEncoder()\n",
    "\n",
    "#New variable for outlet\n",
    "data['Supermarket'] = le.fit_transform(data['Supermarket_Identifier'])\n",
    "\n",
    "var_mod = ['Product_Fat_Content','Supermarket_Location_Type','Supermarket _Size','Supermarket_Type','Supermarket']\n",
    "le = LabelEncoder()\n",
    "\n",
    "for i in var_mod:\n",
    "    data[i] = le.fit_transform(data[i])"
   ]
  },
  {
   "cell_type": "code",
   "execution_count": 15,
   "metadata": {},
   "outputs": [],
   "source": [
    "#for one-hot encoding\n",
    "datas = pd.get_dummies(data, columns = var_mod)"
   ]
  },
  {
   "cell_type": "code",
   "execution_count": 16,
   "metadata": {},
   "outputs": [],
   "source": [
    "#Drop the columns which have been converted to different types:\n",
    "datas.drop(['Product_Supermarket_Identifier','Product_Type',\n",
    "           'Supermarket_Identifier','Product_Identifier'],axis=1,inplace=True)"
   ]
  },
  {
   "cell_type": "code",
   "execution_count": 17,
   "metadata": {},
   "outputs": [],
   "source": [
    "train_data = datas.loc[datas['source']==\"train\"]\n",
    "test_data = datas.loc[datas['source']==\"test\"]"
   ]
  },
  {
   "cell_type": "code",
   "execution_count": 18,
   "metadata": {
    "scrolled": false
   },
   "outputs": [
    {
     "name": "stderr",
     "output_type": "stream",
     "text": [
      "C:\\Users\\ifyy\\Anaconda3\\lib\\site-packages\\ipykernel_launcher.py:2: SettingWithCopyWarning: \n",
      "A value is trying to be set on a copy of a slice from a DataFrame\n",
      "\n",
      "See the caveats in the documentation: http://pandas.pydata.org/pandas-docs/stable/indexing.html#indexing-view-versus-copy\n",
      "  \n",
      "C:\\Users\\ifyy\\Anaconda3\\lib\\site-packages\\ipykernel_launcher.py:3: SettingWithCopyWarning: \n",
      "A value is trying to be set on a copy of a slice from a DataFrame\n",
      "\n",
      "See the caveats in the documentation: http://pandas.pydata.org/pandas-docs/stable/indexing.html#indexing-view-versus-copy\n",
      "  This is separate from the ipykernel package so we can avoid doing imports until\n"
     ]
    }
   ],
   "source": [
    "#Drop unnecessary columns:\n",
    "test_data.drop(['Product_Supermarket_Sales','source'],axis=1,inplace=True)\n",
    "train_data.drop(['source'],axis=1,inplace=True)"
   ]
  },
  {
   "cell_type": "code",
   "execution_count": 19,
   "metadata": {},
   "outputs": [
    {
     "name": "stdout",
     "output_type": "stream",
     "text": [
      "<class 'pandas.core.frame.DataFrame'>\n",
      "Int64Index: 3532 entries, 4990 to 8521\n",
      "Data columns (total 27 columns):\n",
      "Product_Price                  3532 non-null float64\n",
      "Product_Shelf_Visibility       3532 non-null float64\n",
      "Product_Weight                 3532 non-null float64\n",
      "Supermarket_Opening_Year       3532 non-null int64\n",
      "Product_Fat_Content_0          3532 non-null uint8\n",
      "Product_Fat_Content_1          3532 non-null uint8\n",
      "Product_Fat_Content_2          3532 non-null uint8\n",
      "Supermarket_Location_Type_0    3532 non-null uint8\n",
      "Supermarket_Location_Type_1    3532 non-null uint8\n",
      "Supermarket_Location_Type_2    3532 non-null uint8\n",
      "Supermarket _Size_0            3532 non-null uint8\n",
      "Supermarket _Size_1            3532 non-null uint8\n",
      "Supermarket _Size_2            3532 non-null uint8\n",
      "Supermarket_Type_0             3532 non-null uint8\n",
      "Supermarket_Type_1             3532 non-null uint8\n",
      "Supermarket_Type_2             3532 non-null uint8\n",
      "Supermarket_Type_3             3532 non-null uint8\n",
      "Supermarket_0                  3532 non-null uint8\n",
      "Supermarket_1                  3532 non-null uint8\n",
      "Supermarket_2                  3532 non-null uint8\n",
      "Supermarket_3                  3532 non-null uint8\n",
      "Supermarket_4                  3532 non-null uint8\n",
      "Supermarket_5                  3532 non-null uint8\n",
      "Supermarket_6                  3532 non-null uint8\n",
      "Supermarket_7                  3532 non-null uint8\n",
      "Supermarket_8                  3532 non-null uint8\n",
      "Supermarket_9                  3532 non-null uint8\n",
      "dtypes: float64(3), int64(1), uint8(23)\n",
      "memory usage: 217.3 KB\n"
     ]
    }
   ],
   "source": [
    "test_data.info()"
   ]
  },
  {
   "cell_type": "code",
   "execution_count": 20,
   "metadata": {},
   "outputs": [],
   "source": [
    "x = train_data.drop(['Product_Supermarket_Sales'],axis=1)\n",
    "y = train_data['Product_Supermarket_Sales']"
   ]
  },
  {
   "cell_type": "code",
   "execution_count": 21,
   "metadata": {},
   "outputs": [],
   "source": [
    "from sklearn.model_selection import train_test_split\n",
    "x_train, x_test, y_train, y_test = train_test_split(x, y, test_size = 0.3, random_state = 0)"
   ]
  },
  {
   "cell_type": "code",
   "execution_count": 22,
   "metadata": {},
   "outputs": [
    {
     "data": {
      "text/plain": [
       "LinearRegression(copy_X=True, fit_intercept=True, n_jobs=1, normalize=False)"
      ]
     },
     "execution_count": 22,
     "metadata": {},
     "output_type": "execute_result"
    }
   ],
   "source": [
    "from sklearn.linear_model import LinearRegression\n",
    "regressor = LinearRegression()\n",
    "regressor.fit(x_train, y_train)"
   ]
  },
  {
   "cell_type": "code",
   "execution_count": 23,
   "metadata": {},
   "outputs": [],
   "source": [
    "y_predict = regressor.predict(x_test)"
   ]
  },
  {
   "cell_type": "code",
   "execution_count": 24,
   "metadata": {},
   "outputs": [
    {
     "name": "stdout",
     "output_type": "stream",
     "text": [
      "Liner Regression RMSE: 2937.29441\n"
     ]
    }
   ],
   "source": [
    "from sklearn.metrics import mean_squared_error\n",
    "lin_mse = mean_squared_error(y_predict, y_test)\n",
    "lin_rmse = np.sqrt(lin_mse)\n",
    "print('Liner Regression RMSE: %.5f' % lin_rmse)"
   ]
  },
  {
   "cell_type": "code",
   "execution_count": null,
   "metadata": {},
   "outputs": [],
   "source": [
    "y_result = regressor.predict(test_data)"
   ]
  },
  {
   "cell_type": "code",
   "execution_count": 50,
   "metadata": {},
   "outputs": [
    {
     "data": {
      "text/plain": [
       "array([3449.10797602, 7293.97830302, 7281.14832975, ..., 9415.49137017,\n",
       "       3641.96090606, 7217.13910736])"
      ]
     },
     "execution_count": 50,
     "metadata": {},
     "output_type": "execute_result"
    }
   ],
   "source": [
    "y_result"
   ]
  },
  {
   "cell_type": "code",
   "execution_count": 51,
   "metadata": {},
   "outputs": [
    {
     "data": {
      "text/plain": [
       "0.5567462019326636"
      ]
     },
     "execution_count": 51,
     "metadata": {},
     "output_type": "execute_result"
    }
   ],
   "source": [
    "regressor.score(x_test,y_test)"
   ]
  },
  {
   "cell_type": "code",
   "execution_count": 54,
   "metadata": {},
   "outputs": [],
   "source": [
    "linear_submission = pd.DataFrame({'Product_Supermarket_Identifier':sample_data['Product_Supermarket_Identifier'],\n",
    "                                  'Product_Supermarket_Sales': y_result},\n",
    "                                 columns=['Product_Supermarket_Identifier','Product_Supermarket_Sales'])\n",
    "\n",
    "#to csv\n",
    "linear_submission.to_csv('linear_result.csv',index=False)"
   ]
  },
  {
   "cell_type": "code",
   "execution_count": null,
   "metadata": {},
   "outputs": [],
   "source": []
  }
 ],
 "metadata": {
  "kernelspec": {
   "display_name": "Python 3",
   "language": "python",
   "name": "python3"
  },
  "language_info": {
   "codemirror_mode": {
    "name": "ipython",
    "version": 3
   },
   "file_extension": ".py",
   "mimetype": "text/x-python",
   "name": "python",
   "nbconvert_exporter": "python",
   "pygments_lexer": "ipython3",
   "version": "3.6.4"
  }
 },
 "nbformat": 4,
 "nbformat_minor": 2
}
